{
 "cells": [
  {
   "cell_type": "code",
   "execution_count": 1,
   "metadata": {},
   "outputs": [],
   "source": [
    "import pprint\n",
    "import requests\n",
    "from bs4 import BeautifulSoup\n",
    "import time \n",
    "import pandas as pd"
   ]
  },
  {
   "cell_type": "code",
   "execution_count": null,
   "metadata": {},
   "outputs": [],
   "source": [
    " # Initialize PyMongo to work with MongoDBs\n",
    "#conn = 'mongodb://localhost:27017'\n",
    "#client = pymongo.MongoClient(conn)"
   ]
  },
  {
   "cell_type": "code",
   "execution_count": null,
   "metadata": {},
   "outputs": [],
   "source": [
    " # Define database and collection\n",
    "#db = client.craigslist_db\n",
    "#collection = db.items"
   ]
  },
  {
   "cell_type": "markdown",
   "metadata": {},
   "source": [
    "# NASA Mars News"
   ]
  },
  {
   "cell_type": "code",
   "execution_count": 2,
   "metadata": {},
   "outputs": [],
   "source": [
    " # URL of page to be scraped\n",
    "url = 'https://mars.nasa.gov/news'\n",
    "\n",
    "# Retrieve page with the requests module\n",
    "response = requests.get(url)\n",
    "# Create BeautifulSoup object; parse with 'lxml'\n",
    "soup = BeautifulSoup(response.text, 'html.parser')"
   ]
  },
  {
   "cell_type": "code",
   "execution_count": 3,
   "metadata": {},
   "outputs": [
    {
     "data": {
      "text/plain": [
       "\"NASA's InSight Places First Instrument on Mars\""
      ]
     },
     "execution_count": 3,
     "metadata": {},
     "output_type": "execute_result"
    }
   ],
   "source": [
    "# find news heading\n",
    "results = soup.find('div',class_=\"content_title\")\n",
    "news_title = results.find('a').text.strip()\n",
    "news_title"
   ]
  },
  {
   "cell_type": "code",
   "execution_count": 4,
   "metadata": {},
   "outputs": [
    {
     "data": {
      "text/plain": [
       "'In deploying its first instrument onto the surface of Mars, the lander completes a major mission milestone.'"
      ]
     },
     "execution_count": 4,
     "metadata": {},
     "output_type": "execute_result"
    }
   ],
   "source": [
    "# find information about news\n",
    "result = soup.find('div', class_=\"rollover_description_inner\")\n",
    "news_p = result.text.strip()\n",
    "news_p"
   ]
  },
  {
   "cell_type": "code",
   "execution_count": null,
   "metadata": {},
   "outputs": [],
   "source": [
    "# find news headings \n",
    "\n",
    "#article_heading_list = []\n",
    "\n",
    "#for article_heading in soup.find_all('div',class_=\"content_title\"):\n",
    "#    article_heading_list.append(article_heading.find('a').text)\n",
    "    \n",
    "#article_heading_list"
   ]
  },
  {
   "cell_type": "code",
   "execution_count": null,
   "metadata": {},
   "outputs": [],
   "source": [
    "# find information about new articles \n",
    "\n",
    "#article_details_list = []\n",
    "\n",
    "#for article_details in soup.find_all('div',class_=\"rollover_description_inner\"):\n",
    "#    article_details_list.append(article_details.text)\n",
    "    \n",
    "#article_details_list"
   ]
  },
  {
   "cell_type": "code",
   "execution_count": null,
   "metadata": {},
   "outputs": [],
   "source": [
    "\"\"\" idk # Examine the results, then determine element that contains sought info\n",
    "# results are returned as an iterable list\n",
    "results = soup.find_all('li', class_='result-row')\n",
    "\n",
    "# Loop through returned results\n",
    "for result in results:\n",
    "    # Error handling\n",
    "    try:\n",
    "        # Identify and return title of listing\n",
    "        title = result.find('a', class_='result-title').text\n",
    "        # Identify and return price of listing\n",
    "        price = result.a.span.text\n",
    "        # Identify and return link to listing\n",
    "        link = result.a['href']\n",
    "\n",
    "        # Run only if title, price, and link are available\n",
    "        if (title and price and link):\n",
    "            # Print results\n",
    "            print('-------------')\n",
    "            print(title)\n",
    "            print(price)\n",
    "            print(link)\n",
    "\n",
    "            # Dictionary to be inserted as a MongoDB document\n",
    "            post = {\n",
    "                'title': title,\n",
    "                'price': price,\n",
    "                'url': link\n",
    "            }\n",
    "\n",
    "            #collection.insert_one(post)\n",
    "\n",
    "    except Exception as e:\n",
    "        print(e)\n",
    "        \n",
    "\"\"\""
   ]
  },
  {
   "cell_type": "code",
   "execution_count": null,
   "metadata": {},
   "outputs": [],
   "source": [
    "# Display items in MongoDB collection\n",
    "#listings = db.items.find()\n",
    "\n",
    "#for listing in listings:\n",
    "#    print(listing)"
   ]
  },
  {
   "cell_type": "markdown",
   "metadata": {},
   "source": [
    "# feat img"
   ]
  },
  {
   "cell_type": "code",
   "execution_count": 5,
   "metadata": {},
   "outputs": [],
   "source": [
    " # URL of page to be scraped\n",
    "url = 'https://www.jpl.nasa.gov/spaceimages/?search=&category=Mars'\n",
    "\n",
    "# Retrieve page with the requests module\n",
    "response = requests.get(url)\n",
    "# Create BeautifulSoup object; parse with 'lxml'\n",
    "soup2 = BeautifulSoup(response.text, 'html.parser')"
   ]
  },
  {
   "cell_type": "code",
   "execution_count": null,
   "metadata": {},
   "outputs": [],
   "source": [
    "print(soup2.prettify())"
   ]
  },
  {
   "cell_type": "code",
   "execution_count": null,
   "metadata": {},
   "outputs": [],
   "source": [
    "#featured_image_list = []\n",
    "\n",
    "#for image in \n",
    "#    featured_image_list.append(image.findsoup2.find_all('div',class_=\"img\"):('img').get('src'))"
   ]
  },
  {
   "cell_type": "code",
   "execution_count": null,
   "metadata": {},
   "outputs": [],
   "source": [
    "#feature_image = soup2.find_all('div',class_=\"img\")\n",
    "#feature_image"
   ]
  },
  {
   "cell_type": "code",
   "execution_count": 6,
   "metadata": {},
   "outputs": [
    {
     "name": "stdout",
     "output_type": "stream",
     "text": [
      "<section class=\"centered_text clearfix main_feature primary_media_feature single\">\n",
      " <div class=\"carousel_container\">\n",
      "  <div class=\"carousel_items\">\n",
      "   <article alt=\"'Bathurst Inlet' Rock on Curiosity's Sol 54, Context View\" class=\"carousel_item\" style=\"background-image: url('/spaceimages/images/wallpaper/PIA14762-1920x1200.jpg');\">\n",
      "    <div class=\"default floating_text_area ms-layer\">\n",
      "     <h2 class=\"category_title\">\n",
      "     </h2>\n",
      "     <h2 class=\"brand_title\">\n",
      "      FEATURED IMAGE\n",
      "     </h2>\n",
      "     <h1 class=\"media_feature_title\">\n",
      "      'Bathurst Inlet' Rock on Curiosity's Sol 54, Context View\n",
      "     </h1>\n",
      "     <div class=\"description\">\n",
      "     </div>\n",
      "     <footer>\n",
      "      <a class=\"button fancybox\" data-description=\"Curiosity held its MAHLI camera about 10 inches away from the top of a rock called 'Bathurst Inlet' for a set of eight images combined into this merged-focus view of the rock.\" data-fancybox-group=\"images\" data-fancybox-href=\"/spaceimages/images/mediumsize/PIA14762_ip.jpg\" data-link=\"/spaceimages/details.php?id=PIA14762\" data-title=\"'Bathurst Inlet' Rock on Curiosity's Sol 54, Context View\" id=\"full_image\">\n",
      "       FULL IMAGE\n",
      "      </a>\n",
      "     </footer>\n",
      "    </div>\n",
      "    <div class=\"gradient_container_top\">\n",
      "    </div>\n",
      "    <div class=\"gradient_container_bottom\">\n",
      "    </div>\n",
      "   </article>\n",
      "  </div>\n",
      " </div>\n",
      "</section>\n",
      "\n"
     ]
    }
   ],
   "source": [
    "feat = soup2.find('section',class_=\"centered_text clearfix main_feature primary_media_feature single\")\n",
    "print(feat.prettify())"
   ]
  },
  {
   "cell_type": "code",
   "execution_count": 8,
   "metadata": {},
   "outputs": [
    {
     "name": "stdout",
     "output_type": "stream",
     "text": [
      "/spaceimages/images/mediumsize/PIA14762_ip.jpg\n"
     ]
    }
   ],
   "source": [
    "feature_image =  feat.a['data-fancybox-href']\n",
    "print(feature_image)\n"
   ]
  },
  {
   "cell_type": "code",
   "execution_count": null,
   "metadata": {},
   "outputs": [],
   "source": [
    "#featured_image_list\n",
    "\n",
    "#featured_image_list = []\n",
    "\n",
    "#for image in soup.find_all('div',class_=\"img\"):\n",
    "#    featured_image_list.append(image.find('img').get('src'))"
   ]
  },
  {
   "cell_type": "code",
   "execution_count": 9,
   "metadata": {},
   "outputs": [
    {
     "name": "stdout",
     "output_type": "stream",
     "text": [
      "Feature Image URL: https://www.jpl.nasa.gov//spaceimages/images/mediumsize/PIA14762_ip.jpg\n"
     ]
    }
   ],
   "source": [
    "#feature image url \n",
    "featured_image_url = \"https://www.jpl.nasa.gov/\" + feature_image\n",
    "\n",
    "\n",
    "print(\"Feature Image URL:\", featured_image_url)"
   ]
  },
  {
   "cell_type": "code",
   "execution_count": null,
   "metadata": {},
   "outputs": [],
   "source": []
  },
  {
   "cell_type": "markdown",
   "metadata": {},
   "source": [
    "# Mars Weather"
   ]
  },
  {
   "cell_type": "code",
   "execution_count": null,
   "metadata": {},
   "outputs": [],
   "source": []
  },
  {
   "cell_type": "code",
   "execution_count": null,
   "metadata": {},
   "outputs": [],
   "source": []
  },
  {
   "cell_type": "code",
   "execution_count": null,
   "metadata": {},
   "outputs": [],
   "source": []
  },
  {
   "cell_type": "code",
   "execution_count": null,
   "metadata": {},
   "outputs": [],
   "source": []
  }
 ],
 "metadata": {
  "kernelspec": {
   "display_name": "Python 3",
   "language": "python",
   "name": "python3"
  },
  "language_info": {
   "codemirror_mode": {
    "name": "ipython",
    "version": 3
   },
   "file_extension": ".py",
   "mimetype": "text/x-python",
   "name": "python",
   "nbconvert_exporter": "python",
   "pygments_lexer": "ipython3",
   "version": "3.6.6"
  }
 },
 "nbformat": 4,
 "nbformat_minor": 2
}
